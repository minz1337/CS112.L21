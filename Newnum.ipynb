{
  "nbformat": 4,
  "nbformat_minor": 0,
  "metadata": {
    "colab": {
      "name": "Newnum.ipynb",
      "provenance": [],
      "authorship_tag": "ABX9TyPTQJBTMspRIAFEM52AXayk",
      "include_colab_link": true
    },
    "kernelspec": {
      "name": "python3",
      "display_name": "Python 3"
    },
    "language_info": {
      "name": "python"
    }
  },
  "cells": [
    {
      "cell_type": "markdown",
      "metadata": {
        "id": "view-in-github",
        "colab_type": "text"
      },
      "source": [
        "<a href=\"https://colab.research.google.com/github/minz1337/CS112.L21/blob/main/Newnum.ipynb\" target=\"_parent\"><img src=\"https://colab.research.google.com/assets/colab-badge.svg\" alt=\"Open In Colab\"/></a>"
      ]
    },
    {
      "cell_type": "code",
      "metadata": {
        "colab": {
          "base_uri": "https://localhost:8080/"
        },
        "id": "iKPIc1DxW5pQ",
        "outputId": "0a02ef24-d0d0-47fa-8043-4c09ebd26a04"
      },
      "source": [
        "s = list(input().strip())\n",
        "\n",
        "def convert_arr(s):\n",
        "    result_int = []\n",
        "    for i in s:\n",
        "        result_int.append(ord(i) - ord('0'))\n",
        "    return result_int\n",
        "flag = True\n",
        "s = convert_arr(s)\n",
        "modulo_s = sum(s)%3\n",
        "for i, val in enumerate(s):\n",
        "    temp = val%3 + 6 - modulo_s\n",
        "    if(temp<7):\n",
        "        temp +=3\n",
        "    if(temp <= val):\n",
        "        continue\n",
        "    else:\n",
        "        s[i] = temp\n",
        "        flag = False\n",
        "        break\n",
        "if(flag):\n",
        "    t = s[-1]%3 + 6 - modulo_s\n",
        "    if(s[-1]== t ):\n",
        "        s[-1] -= 3\n",
        "    else:\n",
        "        s[-1] = t\n",
        "print(*s,sep ='')"
      ],
      "execution_count": 1,
      "outputs": [
        {
          "output_type": "stream",
          "text": [
            "123\n",
            "723\n"
          ],
          "name": "stdout"
        }
      ]
    }
  ]
}