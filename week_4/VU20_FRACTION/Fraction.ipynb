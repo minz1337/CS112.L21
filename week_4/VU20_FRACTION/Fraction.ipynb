{
  "nbformat": 4,
  "nbformat_minor": 0,
  "metadata": {
    "colab": {
      "name": "Untitled0.ipynb",
      "provenance": [],
      "authorship_tag": "ABX9TyN5eM00ldQa7uFonR4zDuaZ",
      "include_colab_link": true
    },
    "kernelspec": {
      "name": "python3",
      "display_name": "Python 3"
    },
    "language_info": {
      "name": "python"
    }
  },
  "cells": [
    {
      "cell_type": "markdown",
      "metadata": {
        "id": "view-in-github",
        "colab_type": "text"
      },
      "source": [
        "<a href=\"https://colab.research.google.com/github/minz1337/CS112.L21/blob/main/week_4/VU20_FRACTION/Fraction.ipynb\" target=\"_parent\"><img src=\"https://colab.research.google.com/assets/colab-badge.svg\" alt=\"Open In Colab\"/></a>"
      ]
    },
    {
      "cell_type": "markdown",
      "metadata": {
        "id": "R0wiFktgQB79"
      },
      "source": [
        "**FRACTION**"
      ]
    },
    {
      "cell_type": "markdown",
      "metadata": {
        "id": "8W-lbznWQIN1"
      },
      "source": [
        "**1. Abstraction (Trừu tượng hóa):**\n",
        "\n",
        "*  Cho trước 4 số nguyên a, b, c, d.\n",
        "*  Mỗi phép biến đổi tăng a,b lên 1 đơn vị rồi lần lượt chia a,b cho GCD(a,b).\n",
        "*  tìm số lần thực hiện để ad - bc = 0.\n",
        "\n",
        "\n",
        "\n"
      ]
    },
    {
      "cell_type": "markdown",
      "metadata": {
        "id": "qFdzsZ_UQkfg"
      },
      "source": [
        "**2. Pattern recognition (Nhận dạng mẫu):**\n",
        "\n",
        "\n",
        "\n",
        "*   Kỹ thuật áp dụng: duyệt vòng lặp.\n",
        "*   Đặc điểm nhận dạng: thực hiện lặp với số lần biết trước.\n",
        "\n"
      ]
    },
    {
      "cell_type": "markdown",
      "metadata": {
        "id": "tsf1IHPPQ1e0"
      },
      "source": [
        "**3. Algorithm designed (Thiết kế thuật toán):**\n",
        "\n",
        "\n",
        "\n",
        "*   *Nhận xét: Phân số a/b phải bé hơn c/d, thì sau các bước thực hiện mới từ a/b có thể biến đổi thành c/d*\n",
        "*  Đầu tiên: ta kiểm tra a/b có lớn hơn hoặc bằng c/d không. nếu có thì print 0 và kết thúc.\n",
        "*   Nếu không thì:\n",
        "*   Tạo biến đếm count = 0.\n",
        "*   Thực hiện phép biến đổi lặp đến chừng nào a/b < c/d.\n",
        "*   Trong mỗi lần biến đổi, ta tăng count lên 1 đơn vị.\n",
        "*   Khi thực hiên xong vòng lặp( a/b >= c/d):\n",
        "*   Nếu a/b = c/d, thì print count và kết thúc chương trình\n",
        "*   Ngược lại, print 0 và kết thúc chương trình.\n",
        "\n",
        "\n",
        "\n",
        "\n",
        "\n",
        "\n"
      ]
    },
    {
      "cell_type": "markdown",
      "metadata": {
        "id": "_clF6jjpRbgr"
      },
      "source": [
        "**4. Complexity (Độ phức tạp):**\n",
        "\n",
        "\n",
        "*   Độ phức tạp tốt nhất: O(1): khi a/b >= c/d, vòng lặp while không xảy ra.\n",
        "*   Độ phức tạp xấu nhất: khi a và b luôn là nguyên tố cùng nhau, với X là số lần lặp thì ta có biểu thức : (a + X ) / ( b + X ) = c/d <=> ad + dX = bc + cX <=> X = (bc - ad)/(d-c). -> độ phức tạp là O((bc - ad)/(d-c)).\n",
        "\n"
      ]
    },
    {
      "cell_type": "markdown",
      "metadata": {
        "id": "Plk02KFwRkpl"
      },
      "source": [
        "**5.Code:**"
      ]
    },
    {
      "cell_type": "code",
      "metadata": {
        "colab": {
          "base_uri": "https://localhost:8080/"
        },
        "id": "pwyaHeurP9tM",
        "outputId": "89a17df5-136f-4398-f231-e049a8db480f"
      },
      "source": [
        "import math\n",
        "a = int(input())\n",
        "b = int(input())\n",
        "c = int(input())\n",
        "d = int(input())\n",
        "count = 0\n",
        "while (a*d-b*c < 0):\n",
        "    a = a + 1\n",
        "    b = b + 1\n",
        "    temp = math.gcd( a , b )\n",
        "    a = a // temp\n",
        "    b = b // temp\n",
        "    count +=1\n",
        "if(a*d-b*c):\n",
        "    print(0)\n",
        "else:\n",
        "    print(count)"
      ],
      "execution_count": null,
      "outputs": [
        {
          "output_type": "stream",
          "text": [
            "1\n",
            "6\n",
            "2\n",
            "3\n",
            "5\n"
          ],
          "name": "stdout"
        }
      ]
    }
  ]
}